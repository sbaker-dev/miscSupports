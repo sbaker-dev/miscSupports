{
 "cells": [
  {
   "cell_type": "markdown",
   "metadata": {
    "collapsed": true,
    "pycharm": {
     "name": "#%% md\n"
    }
   },
   "source": [
    "# Examples\n",
    "\n",
    "This worksheet will demonstrate how the supporting methods within this repository work."
   ]
  },
  {
   "cell_type": "code",
   "execution_count": 1,
   "metadata": {
    "pycharm": {
     "is_executing": false,
     "name": "#%%\n"
    }
   },
   "outputs": [
    {
     "name": "stdout",
     "output_type": "stream",
     "text": [
      "Loaded environment\n"
     ]
    }
   ],
   "source": [
    "from miscSupports import *\n",
    "\n",
    "from vectorObjects.DefinedVectors import Vector2D\n",
    "from pathlib import Path\n",
    "\n",
    "working_directory = Path(Path().resolve(), \"Examples.ipynb\")\n",
    "if not working_directory.exists():\n",
    "    print(\"WARNING: PATH TO WORKING DIRECTORY COULD NOT BE ESTABLISHED\")\n",
    "else:\n",
    "    working_directory = working_directory.parent\n",
    "\n",
    "print(\"Loaded environment\")"
   ]
  },
  {
   "cell_type": "markdown",
   "metadata": {
    "pycharm": {
     "name": "#%% md\n"
    }
   },
   "source": [
    "# Array altering methods from alter_array.py\n",
    "\n",
    "Each method will have a markdown cell roughly explaining it, and then a python cell that has the before and after. Each\n",
    "method file is explained\n",
    "\n",
    "### Flatten\n",
    "This will take a list of lists and turn it into a list."
   ]
  },
  {
   "cell_type": "code",
   "execution_count": 3,
   "metadata": {
    "pycharm": {
     "is_executing": false,
     "name": "#%%\n"
    }
   },
   "outputs": [
    {
     "name": "stdout",
     "output_type": "stream",
     "text": [
      "Input  [[1, 2], [3, 4]]\n",
      "Output [1, 2, 3, 4]\n"
     ]
    }
   ],
   "source": [
    "list_of_lists = [[1, 2], [3, 4]]\n",
    "print(f\"Input  {list_of_lists}\")\n",
    "print(f\"Output {flatten(list_of_lists)}\")"
   ]
  },
  {
   "cell_type": "markdown",
   "metadata": {
    "pycharm": {
     "name": "#%% md\n"
    }
   },
   "source": [
    "### Chunk_List\n",
    "This will take a list and chunk into smaller groups of a given length. In the case of a remainder, the remainder will\n",
    "be the last element in the list."
   ]
  },
  {
   "cell_type": "code",
   "execution_count": 4,
   "metadata": {
    "pycharm": {
     "is_executing": false,
     "name": "#%%\n"
    }
   },
   "outputs": [
    {
     "name": "stdout",
     "output_type": "stream",
     "text": [
      "Input  [1, 2, 3, 4, 5]\n",
      "Output [[1, 2], [3, 4], [5]]\n"
     ]
    }
   ],
   "source": [
    "list_of_elements = [1, 2, 3, 4, 5]\n",
    "print(f\"Input  {list_of_elements}\")\n",
    "print(f\"Output {chunk_list(list_of_elements, 2)}\")"
   ]
  },
  {
   "cell_type": "markdown",
   "metadata": {
    "pycharm": {
     "name": "#%% md\n"
    }
   },
   "source": [
    "### Find_Duplicates\n",
    "This will take a list and return any element that was duplicated in the list"
   ]
  },
  {
   "cell_type": "code",
   "execution_count": 5,
   "metadata": {
    "pycharm": {
     "is_executing": false,
     "name": "#%%\n"
    }
   },
   "outputs": [
    {
     "name": "stdout",
     "output_type": "stream",
     "text": [
      "Input  [1, 1, 2, 2, 3]\n",
      "Output [1, 2]\n"
     ]
    }
   ],
   "source": [
    "list_of_elements = [1, 1, 2, 2, 3]\n",
    "print(f\"Input  {list_of_elements}\")\n",
    "print(f\"Output {find_duplicates(list_of_elements)}\")\n"
   ]
  },
  {
   "cell_type": "markdown",
   "metadata": {
    "pycharm": {
     "name": "#%% md\n"
    }
   },
   "source": [
    "### Group_Adjacent\n",
    "This will group elements by a distance to the next element. So for a given distance of 4, any connective element within\n",
    "a range of 4 of the previous element will be grouped into the same list whilst a unit above 4 will be put into a new \n",
    "list, where the process then repeats."
   ]
  },
  {
   "cell_type": "code",
   "execution_count": 6,
   "metadata": {
    "pycharm": {
     "is_executing": false,
     "name": "#%%\n"
    }
   },
   "outputs": [
    {
     "name": "stdout",
     "output_type": "stream",
     "text": [
      "Input  [1, 2, 4, 7, 10, 15, 19, 25]\n",
      "Output [[1, 2, 4, 7, 10], [15, 19], [25]]\n"
     ]
    }
   ],
   "source": [
    "list_of_elements = [1, 2, 4, 7, 10, 15, 19, 25]\n",
    "print(f\"Input  {list_of_elements}\")\n",
    "print(f\"Output {group_adjacent(list_of_elements, 4)}\")"
   ]
  },
  {
   "cell_type": "markdown",
   "metadata": {
    "pycharm": {
     "name": "#%% md\n"
    }
   },
   "source": [
    "## In_Between_list\n",
    "This will take a list of numerical values and evenly space the number of subdivisions provided between them"
   ]
  },
  {
   "cell_type": "code",
   "execution_count": 7,
   "metadata": {
    "pycharm": {
     "is_executing": false,
     "name": "#%%\n"
    }
   },
   "outputs": [
    {
     "name": "stdout",
     "output_type": "stream",
     "text": [
      "Input  [1, 5, 7]\n",
      "Output [1.0, 2.0, 3.0, 4.0, 5.0, 5.5, 6.0, 6.5, 7.0]\n"
     ]
    }
   ],
   "source": [
    "list_of_elements = [1, 5, 7]\n",
    "print(f\"Input  {list_of_elements}\")\n",
    "print(f\"Output {in_between_list(list_of_elements, 3)}\")\n"
   ]
  },
  {
   "cell_type": "markdown",
   "metadata": {
    "pycharm": {
     "name": "#%% md\n"
    }
   },
   "source": [
    "### In_Between_Points_List\n",
    "This will take a list of VectorObjects Points and construct a new list with a number of evenly spaced points between \n",
    "each point in the list that has been provided."
   ]
  },
  {
   "cell_type": "code",
   "execution_count": 8,
   "metadata": {
    "pycharm": {
     "is_executing": false,
     "name": "#%%\n"
    }
   },
   "outputs": [
    {
     "name": "stdout",
     "output_type": "stream",
     "text": [
      "Input  [(1, 1), (1, 5), (1, 10)]\n",
      "Output [(1, 1), (1.0, 2.333333333333333), (1.0, 3.6666666666666665), (1, 5), (1.0, 6.666666666666667), (1.0, 8.333333333333334), (1, 10)]\n"
     ]
    }
   ],
   "source": [
    "list_of_points = [Vector2D(1, 1), Vector2D(1, 5), Vector2D(1, 10)]\n",
    "print(f\"Input  {list_of_points}\")\n",
    "print(f\"Output {in_between_points_list(list_of_points, 2)}\")\n"
   ]
  },
  {
   "cell_type": "markdown",
   "metadata": {
    "pycharm": {
     "name": "#%% md\n"
    }
   },
   "source": [
    "### In_Between_Points_On_List\n",
    "This will take a list of numerical values and in-between on a list that states how many points should be between these\n",
    "two values\n"
   ]
  },
  {
   "cell_type": "code",
   "execution_count": 9,
   "metadata": {
    "pycharm": {
     "is_executing": false,
     "name": "#%%\n"
    }
   },
   "outputs": [
    {
     "name": "stdout",
     "output_type": "stream",
     "text": [
      "Input  [(1, 1), (1, 5), (1, 10)] - [1, 0]\n",
      "Output [5, 7.5, 10.0, 12.5]\n"
     ]
    }
   ],
   "source": [
    "points_list = [5, 10, 12.5]\n",
    "divisions = [1, 0]\n",
    "print(f\"Input  {list_of_points} - {divisions}\")\n",
    "print(f\"Output {in_between_points_on_list(points_list, divisions)}\")"
   ]
  },
  {
   "cell_type": "markdown",
   "metadata": {
    "pycharm": {
     "name": "#%% md\n"
    }
   },
   "source": [
    "### Flip_list\n",
    "This will take a list of lists, and flip it. So for example, if you have a list of rows and you want it to be columns\n",
    "then you can use this to flip it\n"
   ]
  },
  {
   "cell_type": "code",
   "execution_count": 10,
   "metadata": {
    "pycharm": {
     "is_executing": false,
     "name": "#%%\n"
    }
   },
   "outputs": [
    {
     "name": "stdout",
     "output_type": "stream",
     "text": [
      "Input  [['Mike', 13], ['Tim', 16], ['Luke', 21]]\n",
      "Output [['Mike', 'Tim', 'Luke'], [13, 16, 21]]\n"
     ]
    }
   ],
   "source": [
    "rows = [[\"Mike\", 13], [\"Tim\", 16], [\"Luke\", 21]]\n",
    "print(f\"Input  {rows}\")\n",
    "print(f\"Output {flip_list(rows)}\")"
   ]
  },
  {
   "cell_type": "markdown",
   "metadata": {
    "pycharm": {
     "is_executing": false,
     "name": "#%% md\n"
    }
   },
   "source": [
    "### Spaced_Points\n",
    "\n",
    "This will create a spacing parameter base on the average distance between each numeric in a list of numeric, and create\n",
    "a new list with spacing to ensure there is no gap larger than the spacing parameter. This **does not** produce an \n",
    "equally spaced list, as this keeps the original elements. If you want the spacing returned you can pass True to the\n",
    "second parameter, else only the spaced list will be returned. \n",
    "\n",
    "You may also provide a set spacing to determine the subdivisions if you want to over-ride the average"
   ]
  },
  {
   "cell_type": "code",
   "execution_count": 11,
   "metadata": {
    "pycharm": {
     "is_executing": false,
     "name": "#%%\n"
    }
   },
   "outputs": [
    {
     "name": "stdout",
     "output_type": "stream",
     "text": [
      "Input  [160, 172, 190, 213, 219, 233]\n",
      "Output 14.6\n",
      "Output [160, 172, 181.0, 190.0, 201.5, 213.0, 219, 233]\n",
      "Output [160, 172, 181.0, 190.0, 201.5, 213.0, 219, 233]\n",
      "Output [160, 164.0, 168.0, 172.0, 176.5, 181.0, 185.5, 190.0, 195.75, 201.5, 207.25, 213.0, 216.0, 219.0, 223.66666666666666, 228.33333333333334, 233.0]\n"
     ]
    }
   ],
   "source": [
    "points = [160, 172, 190, 213, 219, 233]\n",
    "print(f\"Input  {points}\")\n",
    "spacing, output = spaced_points(points, True)\n",
    "print(f\"Output {spacing}\")\n",
    "print(f\"Output {output}\")\n",
    "print(f\"Output {spaced_points(points)}\")\n",
    "print(f\"Output {spaced_points(points, False, 6)}\")"
   ]
  },
  {
   "cell_type": "markdown",
   "metadata": {
    "pycharm": {
     "name": "#%% md\n"
    }
   },
   "source": [
    "### Remove_Nested_Duplicates\n",
    "\n",
    "This will remove any duplicate lists found within a sorted list"
   ]
  },
  {
   "cell_type": "code",
   "execution_count": 12,
   "metadata": {
    "pycharm": {
     "is_executing": false,
     "name": "#%%\n"
    }
   },
   "outputs": [
    {
     "name": "stdout",
     "output_type": "stream",
     "text": [
      "Input  [[1, 2], [1, 2], [3]]\n",
      "Output [[1, 2], [3]]\n"
     ]
    }
   ],
   "source": [
    "nested = [[1, 2], [3], [1, 2]]\n",
    "nested.sort()\n",
    "print(f\"Input  {nested}\")\n",
    "print(f\"Output {remove_nested_duplicates(nested)}\")"
   ]
  },
  {
   "cell_type": "markdown",
   "metadata": {
    "pycharm": {
     "name": "#%% md\n"
    }
   },
   "source": [
    "### Normalisation Min Max\n",
    "\n",
    "Will normalise everything between 0 and 1"
   ]
  },
  {
   "cell_type": "code",
   "execution_count": 3,
   "metadata": {
    "pycharm": {
     "is_executing": false,
     "name": "#%%\n"
    }
   },
   "outputs": [
    {
     "name": "stdout",
     "output_type": "stream",
     "text": [
      "Input  [1, 2, 3, 4, 5]\n",
      "Output [0.0, 0.25, 0.5, 0.75, 1.0]\n"
     ]
    }
   ],
   "source": [
    "value_list = [1, 2, 3, 4, 5]\n",
    "\n",
    "print(f\"Input  {value_list}\")\n",
    "print(f\"Output {normalisation_min_max(value_list)}\")"
   ]
  },
  {
   "cell_type": "markdown",
   "metadata": {
    "pycharm": {
     "name": "#%% md\n"
    }
   },
   "source": [
    "### Z score\n",
    "\n",
    "Will create a z-score for every value in a list"
   ]
  },
  {
   "cell_type": "code",
   "execution_count": 2,
   "metadata": {
    "pycharm": {
     "is_executing": false,
     "name": "#%%\n"
    }
   },
   "outputs": [
    {
     "name": "stdout",
     "output_type": "stream",
     "text": [
      "Input  [39.078, 35.53, 44.73, 53.56, 34.59, 30.92, 37.47, 44.84, 43.18, 38.43, 52.85, 42.88]\n",
      "Output [-0.35046965407438735, -0.8628519077613306, 0.46576047496693124, 1.74093953360721, -0.9986014338226962, -1.5286022430197315, -0.5826879922729798, 0.4816460578039005, 0.24191817135510482, -0.44405017842307415, 1.6384053171140505, 0.19859385452700973]\n"
     ]
    }
   ],
   "source": [
    "value_list = [39.078, 35.53, 44.73, 53.56, 34.59, 30.92, 37.47, 44.84, 43.18, 38.43, 52.85, 42.88]\n",
    "print(f\"Input  {value_list}\")\n",
    "print(f\"Output {z_scores(value_list)}\")"
   ]
  },
  {
   "cell_type": "markdown",
   "metadata": {
    "pycharm": {
     "name": "#%% md\n"
    }
   },
   "source": [
    "# File Supporting Methods from file_support.py\n",
    "\n",
    "These methods will be explained without cell executables as they require files to load\n",
    "\n",
    "### Directory_Iterator\n",
    "This will return a list of files that exists with a directory. If you wish to include sub-directories, set file_only to\n",
    "be false."
   ]
  },
  {
   "cell_type": "code",
   "execution_count": 23,
   "metadata": {
    "pycharm": {
     "is_executing": false,
     "name": "#%%\n"
    }
   },
   "outputs": [
    {
     "name": "stdout",
     "output_type": "stream",
     "text": [
      "The example directory contains: \n",
      "ExampleJson.txt\n",
      "Examples.ipynb\n",
      "ExampleYaml.Yaml\n"
     ]
    }
   ],
   "source": [
    "print(\"The example directory contains: \")\n",
    "for file in directory_iterator(working_directory):\n",
    "    print(file)"
   ]
  },
  {
   "cell_type": "markdown",
   "metadata": {
    "pycharm": {
     "name": "#%% md\n"
    }
   },
   "source": [
    "### write_json\n",
    "Will write a json data to the directory provided called write_name"
   ]
  },
  {
   "cell_type": "code",
   "execution_count": 24,
   "metadata": {
    "pycharm": {
     "is_executing": false,
     "name": "#%%\n"
    }
   },
   "outputs": [
    {
     "name": "stdout",
     "output_type": "stream",
     "text": [
      "Written Example Json 20:22\n"
     ]
    }
   ],
   "source": [
    "example_dict = {\"Thistle\": {\"Age\": 15, \"Sex\": \"Female\", \"Bread\": \"Tabby\"},\n",
    "                \"Teasle\": {\"Age\": 17, \"Sex\": \"Male\", \"Breed\": \"Ginger Tabby\"},\n",
    "                \"Squige\": {\"Age\": 11, \"Sex\": \"Female\", \"Breed\": \"Tabby\"},\n",
    "                \"Willow\": {\"Age\": 13, \"Sex\": \"Female\", \"Breed\": \"Tabby\"}}\n",
    "write_json(example_dict, working_directory, \"ExampleJson\")\n",
    "print(f\"Written Example Json {terminal_time()}\")"
   ]
  },
  {
   "cell_type": "markdown",
   "metadata": {
    "pycharm": {
     "name": "#%% md\n"
    }
   },
   "source": [
    "### load_json\n",
    "Will read a json file to a path provided"
   ]
  },
  {
   "cell_type": "code",
   "execution_count": 25,
   "metadata": {
    "pycharm": {
     "is_executing": false,
     "name": "#%%\n"
    }
   },
   "outputs": [
    {
     "name": "stdout",
     "output_type": "stream",
     "text": [
      "Squige\n",
      "{'Age': 11, 'Breed': 'Tabby', 'Sex': 'Female'}\n",
      "\n",
      "Teasle\n",
      "{'Age': 17, 'Breed': 'Ginger Tabby', 'Sex': 'Male'}\n",
      "\n",
      "Thistle\n",
      "{'Age': 15, 'Bread': 'Tabby', 'Sex': 'Female'}\n",
      "\n",
      "Willow\n",
      "{'Age': 13, 'Breed': 'Tabby', 'Sex': 'Female'}\n",
      "\n"
     ]
    }
   ],
   "source": [
    "for name, details in load_json(Path(working_directory, \"ExampleJson.txt\")).items():\n",
    "    print(name)\n",
    "    print(details)\n",
    "    print(\"\")"
   ]
  },
  {
   "cell_type": "markdown",
   "metadata": {
    "pycharm": {
     "name": "#%% md\n"
    }
   },
   "source": [
    "### load_yaml \n",
    "Will load a yaml file via pyYaml from the path provided"
   ]
  },
  {
   "cell_type": "code",
   "execution_count": 26,
   "metadata": {
    "pycharm": {
     "is_executing": false,
     "name": "#%%\n"
    }
   },
   "outputs": [
    {
     "name": "stdout",
     "output_type": "stream",
     "text": [
      "Thistle\n",
      "{'Age': 15, 'Sex': 'Female', 'Bread': 'Tabby'}\n",
      "\n",
      "Teasle\n",
      "{'Age': 17, 'Sex': 'Male', 'Bread': 'Ginger Tabby'}\n",
      "\n",
      "Squige\n",
      "{'Age': 11, 'Sex': 'Female', 'Bread': 'Tabby'}\n",
      "\n",
      "Willow\n",
      "{'Age': 11, 'Sex': 'Female', 'Bread': 'Tabby'}\n",
      "\n"
     ]
    }
   ],
   "source": [
    "for name, details in load_yaml(Path(working_directory, \"ExampleYaml.Yaml\")).items():\n",
    "    print(name)\n",
    "    print(details)\n",
    "    print(\"\")"
   ]
  },
  {
   "cell_type": "markdown",
   "metadata": {
    "pycharm": {
     "name": "#%% md\n"
    }
   },
   "source": [
    "### extract_headers\n",
    "return the first row of a csv"
   ]
  },
  {
   "cell_type": "code",
   "execution_count": 28,
   "metadata": {
    "pycharm": {
     "is_executing": false,
     "name": "#%%\n"
    }
   },
   "outputs": [
    {
     "name": "stdout",
     "output_type": "stream",
     "text": [
      "['Name', 'Age', 'Sex', 'Breed']\n"
     ]
    }
   ],
   "source": [
    "print(extract_headers(Path(working_directory, \"ExampleCsv.csv\")))"
   ]
  },
  {
   "cell_type": "markdown",
   "metadata": {
    "pycharm": {
     "name": "#%% md\n"
    }
   },
   "source": [
    "### rename_headers\n",
    "This will take a path to a csv file, and then re-write the file with a new set of headings. Headers to be replaced\n",
    "are accessed via key's from a dict of new_headers where the old headers to be replaced are the keys and the new\n",
    "headers to replace them the values"
   ]
  },
  {
   "cell_type": "code",
   "execution_count": 32,
   "metadata": {
    "pycharm": {
     "is_executing": false,
     "name": "#%%\n"
    }
   },
   "outputs": [
    {
     "name": "stdout",
     "output_type": "stream",
     "text": [
      "Old headers ['Name', 'Age', 'Sex', 'Breed']\n",
      "New Header dict key {'Name': 'NewName', 'Age': 'NewAge', 'Sex': 'NewSex', 'Breed': 'NewBreed'}\n",
      "['NewName', 'NewAge', 'NewSex', 'NewBreed']\n"
     ]
    }
   ],
   "source": [
    "old_headers = extract_headers(Path(working_directory, \"ExampleCsv.csv\"))\n",
    "print(f\"Old headers {old_headers}\")\n",
    "new_headers = {old: f\"New{old}\" for old in old_headers}\n",
    "print(f\"New Header dict key {new_headers}\")\n",
    "rename_headers(Path(working_directory, \"ExampleCsv.csv\"), new_headers, working_directory, \"RenamedCsv\")\n",
    "print(extract_headers(Path(working_directory, \"RenamedCsv.csv\")))"
   ]
  },
  {
   "cell_type": "markdown",
   "metadata": {
    "pycharm": {
     "name": "#%% md\n"
    }
   },
   "source": [
    "### validate path\n",
    "Validates the path via pathlib and returns path as Path if it was a string. Allows for None returns."
   ]
  },
  {
   "cell_type": "code",
   "execution_count": 2,
   "metadata": {
    "pycharm": {
     "is_executing": false,
     "name": "#%%\n"
    }
   },
   "outputs": [
    {
     "name": "stdout",
     "output_type": "stream",
     "text": [
      "C:\\Users\\Samuel\\PycharmProjects\\miscSupports\\Examples\n"
     ]
    }
   ],
   "source": [
    "print(validate_path(working_directory))"
   ]
  },
  {
   "cell_type": "markdown",
   "metadata": {
    "pycharm": {
     "name": "#%% md\n"
    }
   },
   "source": [
    "### FileOut\n",
    "Manual logging with flush."
   ]
  },
  {
   "cell_type": "code",
   "execution_count": 2,
   "metadata": {
    "pycharm": {
     "is_executing": false,
     "name": "#%%\n"
    }
   },
   "outputs": [
    {
     "name": "stdout",
     "output_type": "stream",
     "text": [
      "Start time 20:42\n",
      "[5, 4, 2, 3, 1]\n"
     ]
    }
   ],
   "source": [
    "file_log = FileOut(working_directory, \"Log\", \"log\", True)\n",
    "\n",
    "file_log.write(f\"Start time {terminal_time()}\")\n",
    "file_log.write_from_list([5, 4, 2, 3, 1])\n",
    "\n",
    "file_log.print_out = False\n",
    "file_log.write(\"Log to file but not to terminal\")\n"
   ]
  },
  {
   "cell_type": "markdown",
   "metadata": {
    "pycharm": {
     "name": "#%% md\n"
    }
   },
   "source": [
    "# Byte_Supports\n",
    "Supports for working with byte code, byte steams, or files zipped in bytes\n",
    "\n",
    "## todo\n",
    "\n",
    "### open_setter\n",
    "sets open based on zip status\n",
    "\n",
    "### decode line\n",
    "decodes line on zip status\n",
    "\n",
    "### unpack\n",
    "Use a given struct formatting to unpack a byte code\n",
    "\n",
    "### read_text\n",
    "Unpack text of byte size 'size', search for the first Null character as the end point of the string from the\n",
    "byte extracted.\n"
   ]
  },
  {
   "cell_type": "markdown",
   "metadata": {},
   "source": [
    "# Misc methods from misc.py\n",
    "These methods are not currently defined sufficiently to be sub located\n"
   ]
  },
  {
   "cell_type": "markdown",
   "metadata": {},
   "source": [
    "### Parse_As_Numeric\n",
    "This will return zero if a ValueError would be created from returning the type of return_type"
   ]
  },
  {
   "cell_type": "code",
   "execution_count": 13,
   "metadata": {
    "pycharm": {
     "is_executing": false,
     "name": "#%%\n"
    }
   },
   "outputs": [
    {
     "name": "stdout",
     "output_type": "stream",
     "text": [
      "Input  [1, 2, 'NA', 2, 'NA']\n",
      "Output [1, 2, 0, 2, 0]\n"
     ]
    }
   ],
   "source": [
    "list_of_elements = [1, 2, \"NA\", 2, \"NA\"]\n",
    "print(f\"Input  {list_of_elements}\")\n",
    "print(f\"Output {[parse_as_numeric(point) for point in list_of_elements]}\")"
   ]
  },
  {
   "cell_type": "markdown",
   "metadata": {
    "pycharm": {
     "name": "#%% md\n"
    }
   },
   "source": [
    "### String to bool\n",
    "\n",
    "This will convert a string to a bool if it is a str, return the bool if it was a bool, and raise a TypeError otherwise"
   ]
  },
  {
   "cell_type": "code",
   "execution_count": 17,
   "metadata": {
    "pycharm": {
     "is_executing": false,
     "name": "#%%\n"
    }
   },
   "outputs": [
    {
     "name": "stdout",
     "output_type": "stream",
     "text": [
      "Input  ['False', True]\n",
      "Output [False, True]\n"
     ]
    }
   ],
   "source": [
    "examples = [\"False\", True]\n",
    "print(f\"Input  {examples}\")\n",
    "print(f\"Output {[string_to_bool(v) for v in examples]}\")"
   ]
  },
  {
   "cell_type": "markdown",
   "metadata": {
    "pycharm": {
     "name": "#%% md\n"
    }
   },
   "source": [
    "### suppress_stdout\n",
    "This will suppress print statements, may be useful if external packages print a large amount of information on call"
   ]
  },
  {
   "cell_type": "code",
   "execution_count": 4,
   "metadata": {
    "pycharm": {
     "is_executing": false,
     "name": "#%%\n"
    }
   },
   "outputs": [
    {
     "name": "stdout",
     "output_type": "stream",
     "text": [
      "You can't silence me!\n",
      "Well fine i guess you can...\n"
     ]
    }
   ],
   "source": [
    "print(\"You can't silence me!\")\n",
    "with suppress_stdout():\n",
    "    print(\"...huh?\")\n",
    "print(\"Well fine i guess you can...\")"
   ]
  },
  {
   "cell_type": "markdown",
   "metadata": {},
   "source": [
    "# Date and time methods from date_and_time.py\n",
    "\n",
    "This contains some methods to assist with working with dates or time"
   ]
  },
  {
   "cell_type": "markdown",
   "metadata": {},
   "source": [
    "### Terminal Time\n",
    "This will print the current time in hours and minutes, mostly used within paper notebooks to report when process \n",
    "finished as they often clear the progress bar after it was completed"
   ]
  },
  {
   "cell_type": "code",
   "execution_count": null,
   "metadata": {
    "pycharm": {
     "name": "#%%\n"
    }
   },
   "outputs": [],
   "source": [
    "print(f\"Current time is {terminal_time()}\")"
   ]
  },
  {
   "cell_type": "markdown",
   "metadata": {},
   "source": [
    "### Invert date\n",
    "An easy way to ensure ordering of dates is is to order them in yyyymmdd format, so this will convert a single date or a \n",
    "list of dates into this format for you"
   ]
  },
  {
   "cell_type": "code",
   "execution_count": null,
   "metadata": {
    "pycharm": {
     "name": "#%%\n"
    }
   },
   "outputs": [],
   "source": [
    "example_dates = [\"10/2/1943\", \"15/5/1945\"]\n",
    "print(f\"Input  {example_dates}\")\n",
    "print(f\"Output {invert_dates(example_dates)}\")\n",
    "print(f\"Output {invert_dates(example_dates[0])}\")"
   ]
  },
  {
   "cell_type": "markdown",
   "metadata": {},
   "source": [
    "### Revert Date\n",
    "Whilst useful for sorting, yyyy-mm-dd isn't that useful for analysis so this will return it to its previous form"
   ]
  },
  {
   "cell_type": "code",
   "execution_count": null,
   "metadata": {
    "pycharm": {
     "name": "#%%\n"
    }
   },
   "outputs": [],
   "source": [
    "example_dates = [19411231, 19421111, 19450501]\n",
    "print(f\"Input  {example_dates}\")\n",
    "print(f\"Output {restore_dates(example_dates)}\")\n",
    "print(f\"Output {restore_dates(example_dates[0])}\")"
   ]
  },
  {
   "cell_type": "markdown",
   "metadata": {},
   "source": [
    "# Shapely supporting methods from shapely_support.py\n",
    "\n",
    "#### todo\n"
   ]
  }
 ],
 "metadata": {
  "kernelspec": {
   "display_name": "Python 3",
   "language": "python",
   "name": "python3"
  },
  "language_info": {
   "codemirror_mode": {
    "name": "ipython",
    "version": 3
   },
   "file_extension": ".py",
   "mimetype": "text/x-python",
   "name": "python",
   "nbconvert_exporter": "python",
   "pygments_lexer": "ipython3",
   "version": "3.7.3"
  },
  "pycharm": {
   "stem_cell": {
    "cell_type": "raw",
    "metadata": {
     "collapsed": false
    },
    "source": []
   }
  }
 },
 "nbformat": 4,
 "nbformat_minor": 1
}
