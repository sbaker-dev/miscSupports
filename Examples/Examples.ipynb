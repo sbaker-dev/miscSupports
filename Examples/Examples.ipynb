{
 "cells": [
  {
   "cell_type": "markdown",
   "metadata": {
    "collapsed": true,
    "pycharm": {
     "name": "#%% md\n"
    }
   },
   "source": [
    "### Examples\n",
    "\n",
    "This worksheet will demonstrate how the supporting methods within this repository work."
   ]
  },
  {
   "cell_type": "code",
   "execution_count": 1,
   "outputs": [
    {
     "name": "stdout",
     "text": [
      "Loaded environment\n"
     ],
     "output_type": "stream"
    }
   ],
   "source": [
    "from miscSupports import *\n",
    "from vectorObjects.DefinedVectors import Vector2D\n",
    "print(\"Loaded environment\")"
   ],
   "metadata": {
    "collapsed": false,
    "pycharm": {
     "name": "#%%\n",
     "is_executing": false
    }
   }
  },
  {
   "cell_type": "markdown",
   "source": [
    "## Array altering methods from alter_array.py\n",
    "\n",
    "Each method will have a markdown cell roughly explaining it, and then a python cell that has the before and after. Each\n",
    "method file is explained\n",
    "\n",
    "### Flatten\n",
    "This will take a list of lists and turn it into a list."
   ],
   "metadata": {
    "collapsed": false,
    "pycharm": {
     "name": "#%% md\n"
    }
   }
  },
  {
   "cell_type": "code",
   "execution_count": 2,
   "outputs": [
    {
     "name": "stdout",
     "text": [
      "Input  [[1, 2], [3, 4]]\n",
      "Output [1, 2, 3, 4]\n"
     ],
     "output_type": "stream"
    }
   ],
   "source": [
    "list_of_lists = [[1, 2], [3, 4]]\n",
    "print(f\"Input  {list_of_lists}\")\n",
    "print(f\"Output {flatten(list_of_lists)}\")"
   ],
   "metadata": {
    "collapsed": false,
    "pycharm": {
     "name": "#%%\n",
     "is_executing": false
    }
   }
  },
  {
   "cell_type": "markdown",
   "source": [
    "### Chunk_List\n",
    "This will take a list and chunk into smaller groups of a given length. In the case of a remainder, the remainder will\n",
    "be the last element in the list."
   ],
   "metadata": {
    "collapsed": false,
    "pycharm": {
     "name": "#%% md\n"
    }
   }
  },
  {
   "cell_type": "code",
   "execution_count": 3,
   "outputs": [
    {
     "name": "stdout",
     "text": [
      "Input  [1, 2, 3, 4, 5]\n",
      "Output [[1, 2], [3, 4], [5]]\n"
     ],
     "output_type": "stream"
    }
   ],
   "source": [
    "list_of_elements = [1, 2, 3, 4, 5]\n",
    "print(f\"Input  {list_of_elements}\")\n",
    "print(f\"Output {chunk_list(list_of_elements, 2)}\")"
   ],
   "metadata": {
    "collapsed": false,
    "pycharm": {
     "name": "#%%\n",
     "is_executing": false
    }
   }
  },
  {
   "cell_type": "markdown",
   "source": [
    "### Find_Duplicates\n",
    "This will take a list and return any element that was duplicated in the list"
   ],
   "metadata": {
    "collapsed": false,
    "pycharm": {
     "name": "#%% md\n"
    }
   }
  },
  {
   "cell_type": "code",
   "execution_count": 4,
   "outputs": [
    {
     "name": "stdout",
     "text": [
      "Input  [1, 1, 2, 2, 3]\n",
      "Output [1, 2]\n"
     ],
     "output_type": "stream"
    }
   ],
   "source": [
    "list_of_elements = [1, 1, 2, 2, 3]\n",
    "print(f\"Input  {list_of_elements}\")\n",
    "print(f\"Output {find_duplicates(list_of_elements)}\")\n"
   ],
   "metadata": {
    "collapsed": false,
    "pycharm": {
     "name": "#%%\n",
     "is_executing": false
    }
   }
  },
  {
   "cell_type": "markdown",
   "source": [
    "### Group_Adjacent\n",
    "This will group elements by a distance to the next element. So for a given distance of 4, any connective element within\n",
    "a range of 4 of the previous element will be grouped into the same list whilst a unit above 4 will be put into a new \n",
    "list, where the process then repeats."
   ],
   "metadata": {
    "collapsed": false,
    "pycharm": {
     "name": "#%% md\n"
    }
   }
  },
  {
   "cell_type": "code",
   "execution_count": 5,
   "outputs": [
    {
     "name": "stdout",
     "text": [
      "Input  [1, 2, 4, 7, 10, 15, 19, 25]\n",
      "Output [[1, 2, 4, 7, 10], [15, 19], [25]]\n"
     ],
     "output_type": "stream"
    }
   ],
   "source": [
    "list_of_elements = [1, 2, 4, 7, 10, 15, 19, 25]\n",
    "print(f\"Input  {list_of_elements}\")\n",
    "print(f\"Output {group_adjacent(list_of_elements, 4)}\")"
   ],
   "metadata": {
    "collapsed": false,
    "pycharm": {
     "name": "#%%\n",
     "is_executing": false
    }
   }
  },
  {
   "cell_type": "markdown",
   "source": [
    "## In_Between_list\n",
    "This will take a list of numerical values and evenly space the number of subdivisions provided between them"
   ],
   "metadata": {
    "collapsed": false,
    "pycharm": {
     "name": "#%% md\n"
    }
   }
  },
  {
   "cell_type": "code",
   "execution_count": 6,
   "outputs": [
    {
     "name": "stdout",
     "text": [
      "Input  [1, 5, 7]\n",
      "Output [1.0, 2.0, 3.0, 4.0, 5.0, 5.5, 6.0, 6.5, 7.0]\n"
     ],
     "output_type": "stream"
    }
   ],
   "source": [
    "list_of_elements = [1, 5, 7]\n",
    "print(f\"Input  {list_of_elements}\")\n",
    "print(f\"Output {in_between_list(list_of_elements, 3)}\")\n"
   ],
   "metadata": {
    "collapsed": false,
    "pycharm": {
     "name": "#%%\n",
     "is_executing": false
    }
   }
  },
  {
   "cell_type": "markdown",
   "source": [
    "### In_Between_Points_List\n",
    "This will take a list of VectorObjects Points and construct a new list with a number of evenly spaced points between \n",
    "each point in the list that has been provided."
   ],
   "metadata": {
    "collapsed": false,
    "pycharm": {
     "name": "#%% md\n"
    }
   }
  },
  {
   "cell_type": "code",
   "execution_count": 7,
   "outputs": [
    {
     "name": "stdout",
     "text": [
      "Input  [(1, 1), (1, 5), (1, 10)]\n",
      "Output [(1, 1), (1.0, 2.333333333333333), (1.0, 3.6666666666666665), (1, 5), (1.0, 6.666666666666667), (1.0, 8.333333333333334), (1, 10)]\n"
     ],
     "output_type": "stream"
    }
   ],
   "source": [
    "list_of_points = [Vector2D(1, 1), Vector2D(1, 5), Vector2D(1, 10)]\n",
    "print(f\"Input  {list_of_points}\")\n",
    "print(f\"Output {in_between_points_list(list_of_points, 2)}\")\n"
   ],
   "metadata": {
    "collapsed": false,
    "pycharm": {
     "name": "#%%\n",
     "is_executing": false
    }
   }
  },
  {
   "cell_type": "markdown",
   "source": [
    "### In_Between_Points_On_List\n",
    "This will take a list of numerical values and in-between on a list that states how many points should be between these\n",
    "two values\n"
   ],
   "metadata": {
    "collapsed": false,
    "pycharm": {
     "name": "#%% md\n"
    }
   }
  },
  {
   "cell_type": "code",
   "execution_count": 8,
   "outputs": [
    {
     "name": "stdout",
     "text": [
      "Input  [(1, 1), (1, 5), (1, 10)] - [1, 0]\n",
      "Output [5, 7.5, 10.0, 12.5]\n"
     ],
     "output_type": "stream"
    }
   ],
   "source": [
    "points_list = [5, 10, 12.5]\n",
    "divisions = [1, 0]\n",
    "print(f\"Input  {list_of_points} - {divisions}\")\n",
    "print(f\"Output {in_between_points_on_list(points_list, divisions)}\")"
   ],
   "metadata": {
    "collapsed": false,
    "pycharm": {
     "name": "#%%\n",
     "is_executing": false
    }
   }
  },
  {
   "cell_type": "markdown",
   "source": [
    "### Flip_list\n",
    "This will take a list of lists, and flip it. So for example, if you have a list of rows and you want it to be columns\n",
    "then you can use this to flip it\n"
   ],
   "metadata": {
    "collapsed": false,
    "pycharm": {
     "name": "#%% md\n"
    }
   }
  },
  {
   "cell_type": "code",
   "execution_count": 9,
   "outputs": [
    {
     "name": "stdout",
     "text": [
      "Input  [['Mike', 13], ['Tim', 16], ['Luke', 21]]\n",
      "Output [['Mike', 'Tim', 'Luke'], [13, 16, 21]]\n"
     ],
     "output_type": "stream"
    }
   ],
   "source": [
    "rows = [[\"Mike\", 13], [\"Tim\", 16], [\"Luke\", 21]]\n",
    "print(f\"Input  {rows}\")\n",
    "print(f\"Output {flip_list(rows)}\")"
   ],
   "metadata": {
    "collapsed": false,
    "pycharm": {
     "name": "#%%\n",
     "is_executing": false
    }
   }
  },
  {
   "cell_type": "markdown",
   "source": [
    "### Spaced_Points\n",
    "\n",
    "This will create a spacing parameter base on the average distance between each numeric in a list of numeric, and create\n",
    "a new list with spacing to ensure there is no gap larger than the spacing parameter. This **does not** produce an \n",
    "equally spaced list, as this keeps the original elements. If you want the spacing returned you can pass True to the\n",
    "second parameter, else only the spaced list will be returned. \n",
    "\n",
    "You may also provide a set spacing to determine the subdivisions if you want to over-ride the average"
   ],
   "metadata": {
    "collapsed": false,
    "pycharm": {
     "name": "#%% md\n",
     "is_executing": false
    }
   }
  },
  {
   "cell_type": "code",
   "execution_count": 10,
   "outputs": [
    {
     "name": "stdout",
     "text": [
      "Input  [160, 172, 190, 213, 219, 233]\n",
      "Output 14.6\n",
      "Output [160, 172, 181.0, 190.0, 201.5, 213.0, 219, 233]\n",
      "Output [160, 172, 181.0, 190.0, 201.5, 213.0, 219, 233]\n",
      "Output [160, 164.0, 168.0, 172.0, 176.5, 181.0, 185.5, 190.0, 195.75, 201.5, 207.25, 213.0, 216.0, 219.0, 223.66666666666666, 228.33333333333334, 233.0]\n"
     ],
     "output_type": "stream"
    }
   ],
   "source": [
    "points = [160, 172, 190, 213, 219, 233]\n",
    "print(f\"Input  {points}\")\n",
    "spacing, output = spaced_points(points, True)\n",
    "print(f\"Output {spacing}\")\n",
    "print(f\"Output {output}\")\n",
    "print(f\"Output {spaced_points(points)}\")\n",
    "print(f\"Output {spaced_points(points, False, 6)}\")"
   ],
   "metadata": {
    "collapsed": false,
    "pycharm": {
     "name": "#%%\n",
     "is_executing": false
    }
   }
  },
  {
   "cell_type": "markdown",
   "source": [
    "## File Supporting Methods from file_support.py\n",
    "\n",
    "These methods will be explained without cell executables as they require files to load\n",
    "\n",
    "### Directory_Iterator\n",
    "This will return a list of files that exists with a directory. If you wish to include sub-directories, set file_only to\n",
    "be false.\n",
    "\n",
    "### load_json\n",
    "Will read a json file to a path provided\n",
    "\n",
    "### write_json\n",
    "Will write a json data to the directory provided called write_name\n",
    "\n",
    "### load_yaml \n",
    "Will load a yaml file via pyYaml from the path provided\n",
    "\n",
    "### extract_headers\n",
    "return the first row of a csv\n"
   ],
   "metadata": {
    "collapsed": false,
    "pycharm": {
     "name": "#%% md\n"
    }
   }
  },
  {
   "cell_type": "markdown",
   "source": [
    "## Misc methods from misc.py\n",
    "These methods are not currently defined sufficiently to be sub located\n",
    "\n",
    "\n"
   ],
   "metadata": {
    "collapsed": false
   }
  },
  {
   "cell_type": "markdown",
   "source": [
    "### Parse_As_Numeric\n",
    "This will return zero if a ValueError would be created from returning the type of return_type"
   ],
   "metadata": {
    "collapsed": false
   }
  },
  {
   "cell_type": "code",
   "execution_count": 11,
   "outputs": [
    {
     "name": "stdout",
     "text": [
      "Input  [1, 2, 'NA', 2, 'NA']\n",
      "Output [1, 2, 0, 2, 0]\n"
     ],
     "output_type": "stream"
    }
   ],
   "source": [
    "list_of_elements = [1, 2, \"NA\", 2, \"NA\"]\n",
    "print(f\"Input  {list_of_elements}\")\n",
    "print(f\"Output {[parse_as_numeric(point) for point in list_of_elements]}\")"
   ],
   "metadata": {
    "collapsed": false,
    "pycharm": {
     "name": "#%%\n",
     "is_executing": false
    }
   }
  },
  {
   "cell_type": "markdown",
   "source": [
    "## Date and time methods from date_and_time.py\n",
    "\n",
    "This contains some methods to assist with working with dates or time"
   ],
   "metadata": {
    "collapsed": false,
    "pycharm": {
     "name": "#%% md\n"
    }
   }
  },
  {
   "cell_type": "markdown",
   "source": [
    "### Terminal Time\n",
    "This will print the current time in hours and minutes, mostly used within paper notebooks to report when process \n",
    "finished as they often clear the progress bar after it was completed"
   ],
   "metadata": {
    "collapsed": false
   }
  },
  {
   "cell_type": "code",
   "execution_count": 12,
   "outputs": [
    {
     "name": "stdout",
     "text": [
      "Current time is 17:42\n"
     ],
     "output_type": "stream"
    }
   ],
   "source": [
    "print(f\"Current time is {terminal_time()}\")"
   ],
   "metadata": {
    "collapsed": false,
    "pycharm": {
     "name": "#%%\n",
     "is_executing": false
    }
   }
  },
  {
   "cell_type": "markdown",
   "source": [
    "### Invert date\n",
    "An easy way to ensure ordering of dates is is to order them in yyyymmdd format, so this will convert a single date or a \n",
    "list of dates into this format for you"
   ],
   "metadata": {
    "collapsed": false,
    "pycharm": {
     "name": "#%% md\n"
    }
   }
  },
  {
   "cell_type": "code",
   "execution_count": 13,
   "outputs": [
    {
     "name": "stdout",
     "text": [
      "Input  ['10/2/1943', '15/5/1945']\n",
      "Output ['19430210', '19450515']\n",
      "Output 19430210\n"
     ],
     "output_type": "stream"
    }
   ],
   "source": [
    "example_dates = [\"10/2/1943\", \"15/5/1945\"]\n",
    "print(f\"Input  {example_dates}\")\n",
    "print(f\"Output {invert_dates(example_dates)}\")\n",
    "print(f\"Output {invert_dates(example_dates[0])}\")"
   ],
   "metadata": {
    "collapsed": false,
    "pycharm": {
     "name": "#%%\n",
     "is_executing": false
    }
   }
  },
  {
   "cell_type": "markdown",
   "source": [
    "### Revert Date\n",
    "Whilst useful for sorting, yyyy-mm-dd isn't that useful for analysis so this will return it to its previous form"
   ],
   "metadata": {
    "collapsed": false,
    "pycharm": {
     "name": "#%% md\n"
    }
   }
  },
  {
   "cell_type": "code",
   "execution_count": 14,
   "outputs": [
    {
     "name": "stdout",
     "text": [
      "Input  [19411231, 19421111, 19450501]\n",
      "Output [datetime.datetime(1941, 12, 31, 0, 0), datetime.datetime(1942, 11, 11, 0, 0), datetime.datetime(1945, 5, 1, 0, 0)]\n",
      "Output 1941-12-31 00:00:00\n"
     ],
     "output_type": "stream"
    }
   ],
   "source": [
    "example_dates = [19411231, 19421111, 19450501]\n",
    "print(f\"Input  {example_dates}\")\n",
    "print(f\"Output {restore_dates(example_dates)}\")\n",
    "print(f\"Output {restore_dates(example_dates[0])}\")"
   ],
   "metadata": {
    "collapsed": false,
    "pycharm": {
     "name": "#%%\n",
     "is_executing": false
    }
   }
  },
  {
   "cell_type": "markdown",
   "source": [
    "### String to bool\n",
    "\n",
    "This will convert a string to a bool if it is a str, return the bool if it was a bool, and raise a TypeError otherwise"
   ],
   "metadata": {
    "collapsed": false,
    "pycharm": {
     "name": "#%% md\n"
    }
   }
  },
  {
   "cell_type": "code",
   "execution_count": 2,
   "outputs": [
    {
     "name": "stdout",
     "text": [
      "Input  ['False', True]\n",
      "Output [False, True]\n"
     ],
     "output_type": "stream"
    }
   ],
   "source": [
    "examples = [\"False\", True]\n",
    "print(f\"Input  {examples}\")\n",
    "print(f\"Output {[string_to_bool(v) for v in examples]}\")"
   ],
   "metadata": {
    "collapsed": false,
    "pycharm": {
     "name": "#%%\n",
     "is_executing": false
    }
   }
  },
  {
   "cell_type": "markdown",
   "source": [
    "### Shapely supporting methods from shapely_support.py\n",
    "\n",
    "#### todo\n"
   ],
   "metadata": {
    "collapsed": false
   }
  }
 ],
 "metadata": {
  "kernelspec": {
   "display_name": "Python 3",
   "language": "python",
   "name": "python3"
  },
  "language_info": {
   "codemirror_mode": {
    "name": "ipython",
    "version": 2
   },
   "file_extension": ".py",
   "mimetype": "text/x-python",
   "name": "python",
   "nbconvert_exporter": "python",
   "pygments_lexer": "ipython2",
   "version": "2.7.6"
  },
  "pycharm": {
   "stem_cell": {
    "cell_type": "raw",
    "source": [],
    "metadata": {
     "collapsed": false
    }
   }
  }
 },
 "nbformat": 4,
 "nbformat_minor": 0
}